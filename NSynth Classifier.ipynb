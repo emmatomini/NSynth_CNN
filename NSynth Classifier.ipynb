{
 "cells": [
  {
   "cell_type": "markdown",
   "metadata": {},
   "source": [
    "# Instrument Type Classification on NSynth Dataset"
   ]
  },
  {
   "cell_type": "markdown",
   "metadata": {},
   "source": [
    "## Preprocessing and Data Engineering"
   ]
  },
  {
   "cell_type": "code",
   "execution_count": 61,
   "metadata": {},
   "outputs": [],
   "source": [
    "import matplotlib.pyplot as plt\n",
    "import numpy as np\n",
    "import pandas as pd\n",
    "import pickle\n",
    "import time\n",
    "import itertools\n",
    "import librosa # python package for audio analysis\n",
    "import keras\n",
    "from keras.utils import np_utils\n",
    "from keras.utils import to_categorical\n",
    "from keras.layers import Conv2D, MaxPooling2D, GlobalAveragePooling2D\n",
    "from keras.layers import Dense, Dropout, Activation, Flatten\n",
    "from keras.preprocessing.image import ImageDataGenerator\n",
    "from keras.models import Sequential\n",
    "import tensorflow as tf\n",
    "from keras.utils.vis_utils import plot_model"
   ]
  },
  {
   "cell_type": "code",
   "execution_count": 73,
   "metadata": {},
   "outputs": [],
   "source": [
    "# Load JSON files\n",
    "#directory to training data and json file\n",
    "\n",
    "train = 'C:\\\\Users\\\\gpa4767\\\\Downloads\\\\nsynth-train.jsonwav.tar\\\\nsynth-train\\\\examples.json'\n",
    "valid = 'C:\\\\Users\\\\gpa4767\\\\Downloads\\\\nsynth-valid.jsonwav.tar\\\\nsynth-valid\\\\examples.json'\n",
    "test = 'C:\\\\Users\\\\gpa4767\\\\Downloads\\\\nsynth-test.jsonwav.tar\\\\nsynth-test\\\\examples.json'\n",
    "test_dir = 'C:\\\\Users\\\\gpa4767\\\\Downloads\\\\nsynth-test.jsonwav.tar\\\\nsynth-test\\\\audio\\\\'\n",
    "valid_dir = 'C:\\\\Users\\\\gpa4767\\\\Downloads\\\\nsynth-valid.jsonwav.tar\\\\nsynth-valid\\\\audio\\\\'\n",
    "train_dir = 'C:\\\\Users\\\\gpa4767\\\\Downloads\\\\nsynth-train.jsonwav.tar\\\\nsynth-train\\\\audio\\\\'"
   ]
  },
  {
   "cell_type": "code",
   "execution_count": 27,
   "metadata": {},
   "outputs": [
    {
     "data": {
      "text/html": [
       "<div>\n",
       "<style scoped>\n",
       "    .dataframe tbody tr th:only-of-type {\n",
       "        vertical-align: middle;\n",
       "    }\n",
       "\n",
       "    .dataframe tbody tr th {\n",
       "        vertical-align: top;\n",
       "    }\n",
       "\n",
       "    .dataframe thead th {\n",
       "        text-align: right;\n",
       "    }\n",
       "</style>\n",
       "<table border=\"1\" class=\"dataframe\">\n",
       "  <thead>\n",
       "    <tr style=\"text-align: right;\">\n",
       "      <th></th>\n",
       "      <th>instrument</th>\n",
       "      <th>instrument_family</th>\n",
       "      <th>instrument_family_str</th>\n",
       "      <th>instrument_source</th>\n",
       "      <th>instrument_source_str</th>\n",
       "      <th>instrument_str</th>\n",
       "      <th>note</th>\n",
       "      <th>note_str</th>\n",
       "      <th>pitch</th>\n",
       "      <th>qualities</th>\n",
       "      <th>qualities_str</th>\n",
       "      <th>sample_rate</th>\n",
       "      <th>velocity</th>\n",
       "    </tr>\n",
       "  </thead>\n",
       "  <tbody>\n",
       "    <tr>\n",
       "      <th>guitar_acoustic_001-082-050</th>\n",
       "      <td>39</td>\n",
       "      <td>3</td>\n",
       "      <td>guitar</td>\n",
       "      <td>0</td>\n",
       "      <td>acoustic</td>\n",
       "      <td>guitar_acoustic_001</td>\n",
       "      <td>16629</td>\n",
       "      <td>guitar_acoustic_001-082-050</td>\n",
       "      <td>82</td>\n",
       "      <td>[0, 0, 0, 0, 0, 0, 0, 1, 0, 0]</td>\n",
       "      <td>[percussive]</td>\n",
       "      <td>16000</td>\n",
       "      <td>50</td>\n",
       "    </tr>\n",
       "    <tr>\n",
       "      <th>bass_synthetic_120-108-050</th>\n",
       "      <td>881</td>\n",
       "      <td>0</td>\n",
       "      <td>bass</td>\n",
       "      <td>2</td>\n",
       "      <td>synthetic</td>\n",
       "      <td>bass_synthetic_120</td>\n",
       "      <td>168243</td>\n",
       "      <td>bass_synthetic_120-108-050</td>\n",
       "      <td>108</td>\n",
       "      <td>[0, 0, 0, 0, 0, 0, 0, 1, 0, 0]</td>\n",
       "      <td>[percussive]</td>\n",
       "      <td>16000</td>\n",
       "      <td>50</td>\n",
       "    </tr>\n",
       "    <tr>\n",
       "      <th>organ_electronic_120-050-127</th>\n",
       "      <td>979</td>\n",
       "      <td>6</td>\n",
       "      <td>organ</td>\n",
       "      <td>1</td>\n",
       "      <td>electronic</td>\n",
       "      <td>organ_electronic_120</td>\n",
       "      <td>88495</td>\n",
       "      <td>organ_electronic_120-050-127</td>\n",
       "      <td>50</td>\n",
       "      <td>[0, 0, 0, 0, 0, 0, 0, 0, 0, 0]</td>\n",
       "      <td>[]</td>\n",
       "      <td>16000</td>\n",
       "      <td>127</td>\n",
       "    </tr>\n",
       "    <tr>\n",
       "      <th>guitar_electronic_021-026-025</th>\n",
       "      <td>346</td>\n",
       "      <td>3</td>\n",
       "      <td>guitar</td>\n",
       "      <td>1</td>\n",
       "      <td>electronic</td>\n",
       "      <td>guitar_electronic_021</td>\n",
       "      <td>146382</td>\n",
       "      <td>guitar_electronic_021-026-025</td>\n",
       "      <td>26</td>\n",
       "      <td>[0, 0, 0, 1, 0, 0, 0, 1, 0, 0]</td>\n",
       "      <td>[fast_decay, percussive]</td>\n",
       "      <td>16000</td>\n",
       "      <td>25</td>\n",
       "    </tr>\n",
       "    <tr>\n",
       "      <th>organ_electronic_011-079-075</th>\n",
       "      <td>188</td>\n",
       "      <td>6</td>\n",
       "      <td>organ</td>\n",
       "      <td>1</td>\n",
       "      <td>electronic</td>\n",
       "      <td>organ_electronic_011</td>\n",
       "      <td>244275</td>\n",
       "      <td>organ_electronic_011-079-075</td>\n",
       "      <td>79</td>\n",
       "      <td>[1, 0, 0, 0, 0, 0, 0, 0, 0, 0]</td>\n",
       "      <td>[bright]</td>\n",
       "      <td>16000</td>\n",
       "      <td>75</td>\n",
       "    </tr>\n",
       "  </tbody>\n",
       "</table>\n",
       "</div>"
      ],
      "text/plain": [
       "                               instrument  instrument_family  \\\n",
       "guitar_acoustic_001-082-050            39                  3   \n",
       "bass_synthetic_120-108-050            881                  0   \n",
       "organ_electronic_120-050-127          979                  6   \n",
       "guitar_electronic_021-026-025         346                  3   \n",
       "organ_electronic_011-079-075          188                  6   \n",
       "\n",
       "                              instrument_family_str  instrument_source  \\\n",
       "guitar_acoustic_001-082-050                  guitar                  0   \n",
       "bass_synthetic_120-108-050                     bass                  2   \n",
       "organ_electronic_120-050-127                  organ                  1   \n",
       "guitar_electronic_021-026-025                guitar                  1   \n",
       "organ_electronic_011-079-075                  organ                  1   \n",
       "\n",
       "                              instrument_source_str         instrument_str  \\\n",
       "guitar_acoustic_001-082-050                acoustic    guitar_acoustic_001   \n",
       "bass_synthetic_120-108-050                synthetic     bass_synthetic_120   \n",
       "organ_electronic_120-050-127             electronic   organ_electronic_120   \n",
       "guitar_electronic_021-026-025            electronic  guitar_electronic_021   \n",
       "organ_electronic_011-079-075             electronic   organ_electronic_011   \n",
       "\n",
       "                                 note                       note_str  pitch  \\\n",
       "guitar_acoustic_001-082-050     16629    guitar_acoustic_001-082-050     82   \n",
       "bass_synthetic_120-108-050     168243     bass_synthetic_120-108-050    108   \n",
       "organ_electronic_120-050-127    88495   organ_electronic_120-050-127     50   \n",
       "guitar_electronic_021-026-025  146382  guitar_electronic_021-026-025     26   \n",
       "organ_electronic_011-079-075   244275   organ_electronic_011-079-075     79   \n",
       "\n",
       "                                                    qualities  \\\n",
       "guitar_acoustic_001-082-050    [0, 0, 0, 0, 0, 0, 0, 1, 0, 0]   \n",
       "bass_synthetic_120-108-050     [0, 0, 0, 0, 0, 0, 0, 1, 0, 0]   \n",
       "organ_electronic_120-050-127   [0, 0, 0, 0, 0, 0, 0, 0, 0, 0]   \n",
       "guitar_electronic_021-026-025  [0, 0, 0, 1, 0, 0, 0, 1, 0, 0]   \n",
       "organ_electronic_011-079-075   [1, 0, 0, 0, 0, 0, 0, 0, 0, 0]   \n",
       "\n",
       "                                          qualities_str  sample_rate  velocity  \n",
       "guitar_acoustic_001-082-050                [percussive]        16000        50  \n",
       "bass_synthetic_120-108-050                 [percussive]        16000        50  \n",
       "organ_electronic_120-050-127                         []        16000       127  \n",
       "guitar_electronic_021-026-025  [fast_decay, percussive]        16000        25  \n",
       "organ_electronic_011-079-075                   [bright]        16000        75  "
      ]
     },
     "execution_count": 27,
     "metadata": {},
     "output_type": "execute_result"
    }
   ],
   "source": [
    "#load the json files\n",
    "df_train= pd.read_json(train, orient='index')\n",
    "df_valid= pd.read_json(valid, orient='index')\n",
    "df_test= pd.read_json(test, orient='index')\n",
    "df_train.head()"
   ]
  },
  {
   "cell_type": "code",
   "execution_count": 29,
   "metadata": {},
   "outputs": [
    {
     "data": {
      "text/html": [
       "<div>\n",
       "<style scoped>\n",
       "    .dataframe tbody tr th:only-of-type {\n",
       "        vertical-align: middle;\n",
       "    }\n",
       "\n",
       "    .dataframe tbody tr th {\n",
       "        vertical-align: top;\n",
       "    }\n",
       "\n",
       "    .dataframe thead th {\n",
       "        text-align: right;\n",
       "    }\n",
       "</style>\n",
       "<table border=\"1\" class=\"dataframe\">\n",
       "  <thead>\n",
       "    <tr style=\"text-align: right;\">\n",
       "      <th></th>\n",
       "      <th>instrument</th>\n",
       "      <th>instrument_family</th>\n",
       "      <th>instrument_source</th>\n",
       "      <th>note</th>\n",
       "      <th>pitch</th>\n",
       "      <th>sample_rate</th>\n",
       "      <th>velocity</th>\n",
       "    </tr>\n",
       "  </thead>\n",
       "  <tbody>\n",
       "    <tr>\n",
       "      <th>count</th>\n",
       "      <td>289205.000000</td>\n",
       "      <td>289205.000000</td>\n",
       "      <td>289205.000000</td>\n",
       "      <td>289205.000000</td>\n",
       "      <td>289205.000000</td>\n",
       "      <td>289205.0</td>\n",
       "      <td>289205.000000</td>\n",
       "    </tr>\n",
       "    <tr>\n",
       "      <th>mean</th>\n",
       "      <td>490.943127</td>\n",
       "      <td>3.866462</td>\n",
       "      <td>0.932370</td>\n",
       "      <td>153095.048277</td>\n",
       "      <td>62.311658</td>\n",
       "      <td>16000.0</td>\n",
       "      <td>76.172504</td>\n",
       "    </tr>\n",
       "    <tr>\n",
       "      <th>std</th>\n",
       "      <td>280.813189</td>\n",
       "      <td>2.843398</td>\n",
       "      <td>0.796443</td>\n",
       "      <td>88232.549732</td>\n",
       "      <td>23.082522</td>\n",
       "      <td>0.0</td>\n",
       "      <td>36.181410</td>\n",
       "    </tr>\n",
       "    <tr>\n",
       "      <th>min</th>\n",
       "      <td>0.000000</td>\n",
       "      <td>0.000000</td>\n",
       "      <td>0.000000</td>\n",
       "      <td>0.000000</td>\n",
       "      <td>9.000000</td>\n",
       "      <td>16000.0</td>\n",
       "      <td>25.000000</td>\n",
       "    </tr>\n",
       "    <tr>\n",
       "      <th>25%</th>\n",
       "      <td>247.000000</td>\n",
       "      <td>1.000000</td>\n",
       "      <td>0.000000</td>\n",
       "      <td>76755.000000</td>\n",
       "      <td>44.000000</td>\n",
       "      <td>16000.0</td>\n",
       "      <td>50.000000</td>\n",
       "    </tr>\n",
       "    <tr>\n",
       "      <th>50%</th>\n",
       "      <td>499.000000</td>\n",
       "      <td>4.000000</td>\n",
       "      <td>1.000000</td>\n",
       "      <td>153254.000000</td>\n",
       "      <td>62.000000</td>\n",
       "      <td>16000.0</td>\n",
       "      <td>75.000000</td>\n",
       "    </tr>\n",
       "    <tr>\n",
       "      <th>75%</th>\n",
       "      <td>732.000000</td>\n",
       "      <td>6.000000</td>\n",
       "      <td>2.000000</td>\n",
       "      <td>229461.000000</td>\n",
       "      <td>80.000000</td>\n",
       "      <td>16000.0</td>\n",
       "      <td>100.000000</td>\n",
       "    </tr>\n",
       "    <tr>\n",
       "      <th>max</th>\n",
       "      <td>1005.000000</td>\n",
       "      <td>10.000000</td>\n",
       "      <td>2.000000</td>\n",
       "      <td>305978.000000</td>\n",
       "      <td>120.000000</td>\n",
       "      <td>16000.0</td>\n",
       "      <td>127.000000</td>\n",
       "    </tr>\n",
       "  </tbody>\n",
       "</table>\n",
       "</div>"
      ],
      "text/plain": [
       "          instrument  instrument_family  instrument_source           note  \\\n",
       "count  289205.000000      289205.000000      289205.000000  289205.000000   \n",
       "mean      490.943127           3.866462           0.932370  153095.048277   \n",
       "std       280.813189           2.843398           0.796443   88232.549732   \n",
       "min         0.000000           0.000000           0.000000       0.000000   \n",
       "25%       247.000000           1.000000           0.000000   76755.000000   \n",
       "50%       499.000000           4.000000           1.000000  153254.000000   \n",
       "75%       732.000000           6.000000           2.000000  229461.000000   \n",
       "max      1005.000000          10.000000           2.000000  305978.000000   \n",
       "\n",
       "               pitch  sample_rate       velocity  \n",
       "count  289205.000000     289205.0  289205.000000  \n",
       "mean       62.311658      16000.0      76.172504  \n",
       "std        23.082522          0.0      36.181410  \n",
       "min         9.000000      16000.0      25.000000  \n",
       "25%        44.000000      16000.0      50.000000  \n",
       "50%        62.000000      16000.0      75.000000  \n",
       "75%        80.000000      16000.0     100.000000  \n",
       "max       120.000000      16000.0     127.000000  "
      ]
     },
     "execution_count": 29,
     "metadata": {},
     "output_type": "execute_result"
    }
   ],
   "source": [
    "df_train.describe()"
   ]
  },
  {
   "cell_type": "code",
   "execution_count": 30,
   "metadata": {},
   "outputs": [
    {
     "data": {
      "image/png": "[encoded data removed]",
      "text/plain": [
       "<Figure size 432x288 with 1 Axes>"
      ]
     },
     "metadata": {
      "needs_background": "light"
     },
     "output_type": "display_data"
    }
   ],
   "source": [
    "df_train['instrument_family'].value_counts().reindex(np.arange(0,11, 1)).plot('bar')\n",
    "plt.title(\"Instrument Family Distribution for Training\")\n",
    "plt.xlabel(\"Instrumet Family\")\n",
    "plt.ylabel(\"Count\")\n",
    "plt.show()"
   ]
  },
  {
   "cell_type": "code",
   "execution_count": 31,
   "metadata": {},
   "outputs": [
    {
     "data": {
      "text/html": [
       "<div>\n",
       "<style scoped>\n",
       "    .dataframe tbody tr th:only-of-type {\n",
       "        vertical-align: middle;\n",
       "    }\n",
       "\n",
       "    .dataframe tbody tr th {\n",
       "        vertical-align: top;\n",
       "    }\n",
       "\n",
       "    .dataframe thead th {\n",
       "        text-align: right;\n",
       "    }\n",
       "</style>\n",
       "<table border=\"1\" class=\"dataframe\">\n",
       "  <thead>\n",
       "    <tr style=\"text-align: right;\">\n",
       "      <th></th>\n",
       "      <th>instrument</th>\n",
       "      <th>instrument_family</th>\n",
       "      <th>instrument_source</th>\n",
       "      <th>note</th>\n",
       "      <th>pitch</th>\n",
       "      <th>sample_rate</th>\n",
       "      <th>velocity</th>\n",
       "    </tr>\n",
       "  </thead>\n",
       "  <tbody>\n",
       "    <tr>\n",
       "      <th>count</th>\n",
       "      <td>12678.000000</td>\n",
       "      <td>12678.000000</td>\n",
       "      <td>12678.000000</td>\n",
       "      <td>12678.000000</td>\n",
       "      <td>12678.000000</td>\n",
       "      <td>12678.0</td>\n",
       "      <td>12678.000000</td>\n",
       "    </tr>\n",
       "    <tr>\n",
       "      <th>mean</th>\n",
       "      <td>435.214308</td>\n",
       "      <td>3.642530</td>\n",
       "      <td>0.843193</td>\n",
       "      <td>151895.227638</td>\n",
       "      <td>61.529894</td>\n",
       "      <td>16000.0</td>\n",
       "      <td>75.334516</td>\n",
       "    </tr>\n",
       "    <tr>\n",
       "      <th>std</th>\n",
       "      <td>302.248923</td>\n",
       "      <td>2.717627</td>\n",
       "      <td>0.791823</td>\n",
       "      <td>89869.132754</td>\n",
       "      <td>23.543176</td>\n",
       "      <td>0.0</td>\n",
       "      <td>35.996326</td>\n",
       "    </tr>\n",
       "    <tr>\n",
       "      <th>min</th>\n",
       "      <td>8.000000</td>\n",
       "      <td>0.000000</td>\n",
       "      <td>0.000000</td>\n",
       "      <td>8.000000</td>\n",
       "      <td>9.000000</td>\n",
       "      <td>16000.0</td>\n",
       "      <td>25.000000</td>\n",
       "    </tr>\n",
       "    <tr>\n",
       "      <th>25%</th>\n",
       "      <td>123.000000</td>\n",
       "      <td>1.000000</td>\n",
       "      <td>0.000000</td>\n",
       "      <td>72977.250000</td>\n",
       "      <td>42.000000</td>\n",
       "      <td>16000.0</td>\n",
       "      <td>50.000000</td>\n",
       "    </tr>\n",
       "    <tr>\n",
       "      <th>50%</th>\n",
       "      <td>417.000000</td>\n",
       "      <td>4.000000</td>\n",
       "      <td>1.000000</td>\n",
       "      <td>149368.500000</td>\n",
       "      <td>60.000000</td>\n",
       "      <td>16000.0</td>\n",
       "      <td>75.000000</td>\n",
       "    </tr>\n",
       "    <tr>\n",
       "      <th>75%</th>\n",
       "      <td>656.000000</td>\n",
       "      <td>6.000000</td>\n",
       "      <td>1.000000</td>\n",
       "      <td>230152.250000</td>\n",
       "      <td>80.000000</td>\n",
       "      <td>16000.0</td>\n",
       "      <td>100.000000</td>\n",
       "    </tr>\n",
       "    <tr>\n",
       "      <th>max</th>\n",
       "      <td>958.000000</td>\n",
       "      <td>10.000000</td>\n",
       "      <td>2.000000</td>\n",
       "      <td>305977.000000</td>\n",
       "      <td>120.000000</td>\n",
       "      <td>16000.0</td>\n",
       "      <td>127.000000</td>\n",
       "    </tr>\n",
       "  </tbody>\n",
       "</table>\n",
       "</div>"
      ],
      "text/plain": [
       "         instrument  instrument_family  instrument_source           note  \\\n",
       "count  12678.000000       12678.000000       12678.000000   12678.000000   \n",
       "mean     435.214308           3.642530           0.843193  151895.227638   \n",
       "std      302.248923           2.717627           0.791823   89869.132754   \n",
       "min        8.000000           0.000000           0.000000       8.000000   \n",
       "25%      123.000000           1.000000           0.000000   72977.250000   \n",
       "50%      417.000000           4.000000           1.000000  149368.500000   \n",
       "75%      656.000000           6.000000           1.000000  230152.250000   \n",
       "max      958.000000          10.000000           2.000000  305977.000000   \n",
       "\n",
       "              pitch  sample_rate      velocity  \n",
       "count  12678.000000      12678.0  12678.000000  \n",
       "mean      61.529894      16000.0     75.334516  \n",
       "std       23.543176          0.0     35.996326  \n",
       "min        9.000000      16000.0     25.000000  \n",
       "25%       42.000000      16000.0     50.000000  \n",
       "50%       60.000000      16000.0     75.000000  \n",
       "75%       80.000000      16000.0    100.000000  \n",
       "max      120.000000      16000.0    127.000000  "
      ]
     },
     "execution_count": 31,
     "metadata": {},
     "output_type": "execute_result"
    }
   ],
   "source": [
    "df_valid.describe()"
   ]
  },
  {
   "cell_type": "code",
   "execution_count": 32,
   "metadata": {},
   "outputs": [
    {
     "data": {
      "image/png": "[encoded data removed]",
      "text/plain": [
       "<Figure size 432x288 with 1 Axes>"
      ]
     },
     "metadata": {
      "needs_background": "light"
     },
     "output_type": "display_data"
    }
   ],
   "source": [
    "df_valid['instrument_family'].value_counts().reindex(np.arange(0,11, 1)).plot('bar')\n",
    "plt.title(\"Instrument Family Distribution for Validation\")\n",
    "plt.xlabel(\"Instrumet Family\")\n",
    "plt.ylabel(\"Count\")\n",
    "plt.show()"
   ]
  },
  {
   "cell_type": "code",
   "execution_count": 33,
   "metadata": {},
   "outputs": [
    {
     "data": {
      "text/html": [
       "<div>\n",
       "<style scoped>\n",
       "    .dataframe tbody tr th:only-of-type {\n",
       "        vertical-align: middle;\n",
       "    }\n",
       "\n",
       "    .dataframe tbody tr th {\n",
       "        vertical-align: top;\n",
       "    }\n",
       "\n",
       "    .dataframe thead th {\n",
       "        text-align: right;\n",
       "    }\n",
       "</style>\n",
       "<table border=\"1\" class=\"dataframe\">\n",
       "  <thead>\n",
       "    <tr style=\"text-align: right;\">\n",
       "      <th></th>\n",
       "      <th>instrument</th>\n",
       "      <th>instrument_family</th>\n",
       "      <th>instrument_source</th>\n",
       "      <th>note</th>\n",
       "      <th>pitch</th>\n",
       "      <th>sample_rate</th>\n",
       "      <th>velocity</th>\n",
       "    </tr>\n",
       "  </thead>\n",
       "  <tbody>\n",
       "    <tr>\n",
       "      <th>count</th>\n",
       "      <td>4096.000000</td>\n",
       "      <td>4096.000000</td>\n",
       "      <td>4096.000000</td>\n",
       "      <td>4096.000000</td>\n",
       "      <td>4096.000000</td>\n",
       "      <td>4096.0</td>\n",
       "      <td>4096.000000</td>\n",
       "    </tr>\n",
       "    <tr>\n",
       "      <th>mean</th>\n",
       "      <td>423.497070</td>\n",
       "      <td>3.704590</td>\n",
       "      <td>0.840332</td>\n",
       "      <td>149040.895752</td>\n",
       "      <td>61.480713</td>\n",
       "      <td>16000.0</td>\n",
       "      <td>75.288574</td>\n",
       "    </tr>\n",
       "    <tr>\n",
       "      <th>std</th>\n",
       "      <td>300.198066</td>\n",
       "      <td>2.761171</td>\n",
       "      <td>0.799813</td>\n",
       "      <td>90014.146997</td>\n",
       "      <td>23.386504</td>\n",
       "      <td>0.0</td>\n",
       "      <td>35.775118</td>\n",
       "    </tr>\n",
       "    <tr>\n",
       "      <th>min</th>\n",
       "      <td>8.000000</td>\n",
       "      <td>0.000000</td>\n",
       "      <td>0.000000</td>\n",
       "      <td>87.000000</td>\n",
       "      <td>9.000000</td>\n",
       "      <td>16000.0</td>\n",
       "      <td>25.000000</td>\n",
       "    </tr>\n",
       "    <tr>\n",
       "      <th>25%</th>\n",
       "      <td>123.000000</td>\n",
       "      <td>1.000000</td>\n",
       "      <td>0.000000</td>\n",
       "      <td>70077.500000</td>\n",
       "      <td>42.000000</td>\n",
       "      <td>16000.0</td>\n",
       "      <td>50.000000</td>\n",
       "    </tr>\n",
       "    <tr>\n",
       "      <th>50%</th>\n",
       "      <td>417.000000</td>\n",
       "      <td>4.000000</td>\n",
       "      <td>1.000000</td>\n",
       "      <td>143984.500000</td>\n",
       "      <td>61.000000</td>\n",
       "      <td>16000.0</td>\n",
       "      <td>75.000000</td>\n",
       "    </tr>\n",
       "    <tr>\n",
       "      <th>75%</th>\n",
       "      <td>656.000000</td>\n",
       "      <td>6.000000</td>\n",
       "      <td>2.000000</td>\n",
       "      <td>228438.000000</td>\n",
       "      <td>80.000000</td>\n",
       "      <td>16000.0</td>\n",
       "      <td>100.000000</td>\n",
       "    </tr>\n",
       "    <tr>\n",
       "      <th>max</th>\n",
       "      <td>958.000000</td>\n",
       "      <td>10.000000</td>\n",
       "      <td>2.000000</td>\n",
       "      <td>305832.000000</td>\n",
       "      <td>119.000000</td>\n",
       "      <td>16000.0</td>\n",
       "      <td>127.000000</td>\n",
       "    </tr>\n",
       "  </tbody>\n",
       "</table>\n",
       "</div>"
      ],
      "text/plain": [
       "        instrument  instrument_family  instrument_source           note  \\\n",
       "count  4096.000000        4096.000000        4096.000000    4096.000000   \n",
       "mean    423.497070           3.704590           0.840332  149040.895752   \n",
       "std     300.198066           2.761171           0.799813   90014.146997   \n",
       "min       8.000000           0.000000           0.000000      87.000000   \n",
       "25%     123.000000           1.000000           0.000000   70077.500000   \n",
       "50%     417.000000           4.000000           1.000000  143984.500000   \n",
       "75%     656.000000           6.000000           2.000000  228438.000000   \n",
       "max     958.000000          10.000000           2.000000  305832.000000   \n",
       "\n",
       "             pitch  sample_rate     velocity  \n",
       "count  4096.000000       4096.0  4096.000000  \n",
       "mean     61.480713      16000.0    75.288574  \n",
       "std      23.386504          0.0    35.775118  \n",
       "min       9.000000      16000.0    25.000000  \n",
       "25%      42.000000      16000.0    50.000000  \n",
       "50%      61.000000      16000.0    75.000000  \n",
       "75%      80.000000      16000.0   100.000000  \n",
       "max     119.000000      16000.0   127.000000  "
      ]
     },
     "execution_count": 33,
     "metadata": {},
     "output_type": "execute_result"
    }
   ],
   "source": [
    "df_test.describe()"
   ]
  },
  {
   "cell_type": "code",
   "execution_count": 34,
   "metadata": {},
   "outputs": [
    {
     "data": {
      "image/png": "[encoded data removed]",
      "text/plain": [
       "<Figure size 432x288 with 1 Axes>"
      ]
     },
     "metadata": {
      "needs_background": "light"
     },
     "output_type": "display_data"
    }
   ],
   "source": [
    "df_test['instrument_family'].value_counts().reindex(np.arange(0,11, 1)).plot('bar')\n",
    "plt.title(\"Instrument Family Distribution for Testing\")\n",
    "plt.xlabel(\"Instrumet Family\")\n",
    "plt.ylabel(\"Count\")\n",
    "plt.show()"
   ]
  },
  {
   "cell_type": "code",
   "execution_count": 35,
   "metadata": {},
   "outputs": [
    {
     "data": {
      "text/plain": [
       "10208"
      ]
     },
     "execution_count": 35,
     "metadata": {},
     "output_type": "execute_result"
    }
   ],
   "source": [
    "(df_train['instrument_family'] == 10).sum()"
   ]
  },
  {
   "cell_type": "code",
   "execution_count": 36,
   "metadata": {},
   "outputs": [],
   "source": [
    "# Instrument Family type 9 doesnt exist in validation or test set so we will drop from trianing\n",
    "\n",
    "# Due to time and computational limitations, the training set was reduced to 2000 instances of each class to \n",
    "# reduce training time\n",
    "df_train_sample=df_train.groupby('instrument_family', as_index=False, #group by instrument family\n",
    "                               group_keys=False).apply(lambda df: df.sample(2000))\n",
    "\n",
    "#drop the synth_lead from the training dataset\n",
    "df_train_sample= df_train_sample[df_train_sample['instrument_family']!=9]\n",
    "\n",
    "\n",
    "#save the train file index as list\n",
    "filenames_train = df_train_sample.index.tolist()\n",
    "\n",
    "#save the list to a pickle file\n",
    "with open('filenames_train.pickle', 'wb') as f:\n",
    "    pickle.dump(filenames_train, f)"
   ]
  },
  {
   "cell_type": "code",
   "execution_count": 156,
   "metadata": {},
   "outputs": [
    {
     "data": {
      "image/png": "[encoded data removed]",
      "text/plain": [
       "<Figure size 720x288 with 2 Axes>"
      ]
     },
     "metadata": {
      "needs_background": "light"
     },
     "output_type": "display_data"
    }
   ],
   "source": [
    "# Test Spectrogram\n",
    "file = 'C:\\\\Users\\\\gpa4767\\\\Downloads\\\\nsynth-train.jsonwav.tar\\\\nsynth-train\\\\audio\\\\bass_acoustic_000-026-075.wav'\n",
    "y, sr = librosa.load(file)\n",
    "S = librosa.feature.melspectrogram(y=y, sr=sr)\n",
    "\n",
    "import matplotlib.pyplot as plt\n",
    "import librosa.display\n",
    "plt.figure(figsize=(10, 4))\n",
    "librosa.display.specshow(librosa.power_to_db(S, ref=np.max), y_axis='mel', fmax=8000, x_axis='time')\n",
    "plt.colorbar(format='%+2.0f dB')\n",
    "plt.title('Mel spectrogram')\n",
    "plt.tight_layout()"
   ]
  },
  {
   "cell_type": "code",
   "execution_count": 38,
   "metadata": {},
   "outputs": [],
   "source": [
    "# convert wav files to spectrogram using libROSA package\n",
    "def feature_extract(file):\n",
    "\n",
    "    #get wave representation\n",
    "    y, sr = librosa.load(file)\n",
    "    \n",
    "    #get the mel-scaled spectrogram\n",
    "    spectrogram = librosa.feature.melspectrogram(y=y, sr=sr, n_mels=100, hop_length=1024, fmax=8000)  \n",
    "    \n",
    "    return spectrogram\n",
    "\n",
    "\n",
    "# extract instrument class from file name\n",
    "def instrument_code(filename):\n",
    "    \n",
    "    class_names=['bass', 'brass', 'flute', 'guitar', 'keyboard', 'mallet', 'organ', 'reed', 'string', 'synth_lead', 'vocal']\n",
    "    \n",
    "    for name in class_names:\n",
    "        if name in filename:\n",
    "            return class_names.index(name)\n",
    "    else:\n",
    "        return None"
   ]
  },
  {
   "cell_type": "markdown",
   "metadata": {},
   "source": [
    "## Training Set"
   ]
  },
  {
   "cell_type": "code",
   "execution_count": 40,
   "metadata": {},
   "outputs": [
    {
     "name": "stdout",
     "output_type": "stream",
     "text": [
      "Time to extract 20000 files is 2476.510754585266 seconds\n"
     ]
    }
   ],
   "source": [
    "#create list to store all test features\n",
    "list_train = []\n",
    "\n",
    "#loop over every file in the list\n",
    "for file in filenames_train:\n",
    "    #extract the features\n",
    "    features = feature_extract(train_dir+ file + '.wav')\n",
    "    #add item to list\n",
    "    list_train.append(features)"
   ]
  },
  {
   "cell_type": "code",
   "execution_count": 46,
   "metadata": {},
   "outputs": [
    {
     "data": {
      "text/plain": [
       "(20000, 100, 87)"
      ]
     },
     "execution_count": 46,
     "metadata": {},
     "output_type": "execute_result"
    }
   ],
   "source": [
    "# reformat training data to be passed to CNN\n",
    "train_X = np.stack(list_train, axis=0) # stack multiple 2d spectrograms in to 3d array\n",
    "train_X = train_X.reshape(-1, 100,87, 1) # reshape array\n",
    "train_X = train_X.astype('float32') # change type\n",
    "train_X.shape"
   ]
  },
  {
   "cell_type": "code",
   "execution_count": 50,
   "metadata": {},
   "outputs": [],
   "source": [
    "# save train_X data\n",
    "with open('train_X.pickle', 'wb') as f:\n",
    "    pickle.dump(train_X, f)"
   ]
  },
  {
   "cell_type": "code",
   "execution_count": 58,
   "metadata": {},
   "outputs": [
    {
     "data": {
      "text/plain": [
       "2"
      ]
     },
     "execution_count": 58,
     "metadata": {},
     "output_type": "execute_result"
    }
   ],
   "source": [
    "# reformat training response variable to be passed to CNN\n",
    "targets_train = []\n",
    "for file in filenames_train:\n",
    "    targets_train.append(instrument_code(file))\n",
    "    \n",
    "train_Y = to_categorical(targets_train, dtype='float32')\n",
    "train_Y.shape"
   ]
  },
  {
   "cell_type": "code",
   "execution_count": 63,
   "metadata": {},
   "outputs": [
    {
     "data": {
      "text/plain": [
       "(20000, 11)"
      ]
     },
     "execution_count": 63,
     "metadata": {},
     "output_type": "execute_result"
    }
   ],
   "source": [
    "# save train_Y data\n",
    "with open('train_Y.pickle', 'wb') as f:\n",
    "    pickle.dump(train_Y, f)"
   ]
  },
  {
   "cell_type": "markdown",
   "metadata": {},
   "source": [
    "## Validation Set"
   ]
  },
  {
   "cell_type": "code",
   "execution_count": 76,
   "metadata": {},
   "outputs": [],
   "source": [
    "#save the train file index as list\n",
    "filenames_valid = df_valid.index.tolist()\n",
    "\n",
    "#save the list to a pickle file\n",
    "with open('filenames_valid.pickle', 'wb') as f:\n",
    "    pickle.dump(filenames_valid, f)"
   ]
  },
  {
   "cell_type": "code",
   "execution_count": 83,
   "metadata": {},
   "outputs": [
    {
     "name": "stdout",
     "output_type": "stream",
     "text": [
      "Time to extract 12678 files is 1933.580828666687 seconds\n"
     ]
    }
   ],
   "source": [
    "#create list to store all validation features\n",
    "list_valid = []\n",
    "\n",
    "#loop over every file in the list\n",
    "for file in filenames_valid:\n",
    "    #extract the features\n",
    "    features = feature_extract(valid_dir+ file + '.wav') \n",
    "    #add item to list\n",
    "    list_valid.append(features)"
   ]
  },
  {
   "cell_type": "code",
   "execution_count": 86,
   "metadata": {},
   "outputs": [
    {
     "data": {
      "text/plain": [
       "(12678, 100, 87)"
      ]
     },
     "execution_count": 86,
     "metadata": {},
     "output_type": "execute_result"
    }
   ],
   "source": [
    "# reformat validation data to be passed to CNN\n",
    "valid_X = np.stack(list_valid, axis=0) # stack multiple 2d spectrograms in to 3d array\n",
    "valid_X = valid_X.reshape(-1, 100,87, 1) # reshape array\n",
    "valid_X = valid_X.astype('float32') # change type\n",
    "valid_X.shape"
   ]
  },
  {
   "cell_type": "code",
   "execution_count": 87,
   "metadata": {},
   "outputs": [
    {
     "data": {
      "text/plain": [
       "(12678, 100, 87, 1)"
      ]
     },
     "execution_count": 87,
     "metadata": {},
     "output_type": "execute_result"
    }
   ],
   "source": [
    "# save valid_X data\n",
    "with open('valid_X.pickle', 'wb') as f:\n",
    "    pickle.dump(valid_X, f)"
   ]
  },
  {
   "cell_type": "code",
   "execution_count": 89,
   "metadata": {},
   "outputs": [],
   "source": [
    "# reformat validation response variable to be passed to CNN\n",
    "targets_valid = []\n",
    "for file in filenames_valid:\n",
    "    targets_valid.append(instrument_code(file))\n",
    "    \n",
    "valid_Y = to_categorical(targets_valid, dtype='float32')\n",
    "valid_Y.shape"
   ]
  },
  {
   "cell_type": "code",
   "execution_count": 91,
   "metadata": {},
   "outputs": [],
   "source": [
    "# save valid_Y data\n",
    "with open('valid_Y.pickle', 'wb') as f:\n",
    "    pickle.dump(valid_Y, f)"
   ]
  },
  {
   "cell_type": "markdown",
   "metadata": {},
   "source": [
    "## Test Set"
   ]
  },
  {
   "cell_type": "code",
   "execution_count": 98,
   "metadata": {},
   "outputs": [],
   "source": [
    "#save the train file index as list\n",
    "filenames_test = df_test.index.tolist()\n",
    "\n",
    "#save the list to a pickle file\n",
    "with open('filenames_test.pickle', 'wb') as f:\n",
    "    pickle.dump(filenames_test, f)"
   ]
  },
  {
   "cell_type": "code",
   "execution_count": 99,
   "metadata": {},
   "outputs": [
    {
     "name": "stdout",
     "output_type": "stream",
     "text": [
      "Time to extract 4096 files is 569.7851281166077 seconds\n"
     ]
    }
   ],
   "source": [
    "#create list to store all validation features\n",
    "list_test = []\n",
    "\n",
    "#loop over every file in the list\n",
    "for file in filenames_test:\n",
    "    #extract the features\n",
    "    features = feature_extract(test_dir+ file + '.wav')\n",
    "    #add dictionary entry\n",
    "    list_test.append(features)"
   ]
  },
  {
   "cell_type": "code",
   "execution_count": 103,
   "metadata": {},
   "outputs": [
    {
     "data": {
      "text/plain": [
       "(4096, 100, 87)"
      ]
     },
     "execution_count": 103,
     "metadata": {},
     "output_type": "execute_result"
    }
   ],
   "source": [
    "# reformat test data to be passed to CNN\n",
    "test_X = np.stack(list_test, axis=0)\n",
    "test_X = test_X.reshape(-1, 100,87, 1)\n",
    "test_X = test_X.astype('float32')\n",
    "test_X.shape"
   ]
  },
  {
   "cell_type": "code",
   "execution_count": 105,
   "metadata": {},
   "outputs": [],
   "source": [
    "# save test_X data\n",
    "with open('test_X.pickle', 'wb') as f:\n",
    "    pickle.dump(test_X, f)"
   ]
  },
  {
   "cell_type": "code",
   "execution_count": 106,
   "metadata": {},
   "outputs": [],
   "source": [
    "# reformat test response variable to be passed to CNN\n",
    "targets_test = []\n",
    "for file in filenames_test:\n",
    "    targets_test.append(instrument_code(file))\n",
    "    \n",
    "test_Y = to_categorical(targets_test, dtype='float32')\n",
    "test_Y.shape"
   ]
  },
  {
   "cell_type": "code",
   "execution_count": 108,
   "metadata": {},
   "outputs": [],
   "source": [
    "# save test_Y data\n",
    "with open('test_Y.pickle', 'wb') as f:\n",
    "    pickle.dump(test_Y, f)"
   ]
  },
  {
   "cell_type": "markdown",
   "metadata": {},
   "source": [
    "# Define CNN"
   ]
  },
  {
   "cell_type": "code",
   "execution_count": 92,
   "metadata": {},
   "outputs": [
    {
     "name": "stdout",
     "output_type": "stream",
     "text": [
      "The number of classes is 11\n",
      "Model saved as nsynth_2019_06_17.h5\n"
     ]
    }
   ],
   "source": [
    "# CNN structure, paramters and activation fuction selection were based on previous implementations \n",
    "# outlined in the \"References\" section\n",
    "\n",
    "#batch size\n",
    "batch_size = 64\n",
    "#number of classes\n",
    "num_classes=train_Y.shape[1]\n",
    "print(\"The number of classes is {}\".format(num_classes))\n",
    "#training epochs\n",
    "epochs = 30\n",
    "#assume we dont need data augmentation\n",
    "data_augmentation = False\n",
    "#where to save file\n",
    "save_dir = 'NSynth'\n",
    "#file name\n",
    "model_name = 'nsynth_2019_06_17.h5'\n",
    "\n",
    "print(\"Model saved as {}\".format(model_name))"
   ]
  },
  {
   "cell_type": "code",
   "execution_count": 93,
   "metadata": {},
   "outputs": [],
   "source": [
    "model = Sequential()\n",
    "model.add(Conv2D(32, (3, 3), padding='same',\n",
    "                 input_shape=train_X.shape[1:]))\n",
    "model.add(Activation('relu'))\n",
    "model.add(Conv2D(32, (3, 3)))\n",
    "model.add(Activation('relu'))\n",
    "model.add(MaxPooling2D(pool_size=(2, 2)))\n",
    "model.add(Dropout(0.25))\n",
    "\n",
    "model.add(Conv2D(64, (3, 3), padding='same'))\n",
    "model.add(Activation('relu'))\n",
    "model.add(Conv2D(64, (3, 3)))\n",
    "model.add(Activation('relu'))\n",
    "model.add(MaxPooling2D(pool_size=(2, 2)))\n",
    "model.add(Dropout(0.25))\n",
    "\n",
    "model.add(Conv2D(128, (3, 3), padding='same'))\n",
    "model.add(Activation('relu'))\n",
    "model.add(Conv2D(128, (3, 3)))\n",
    "model.add(Activation('relu'))\n",
    "model.add(MaxPooling2D(pool_size=(2, 2)))\n",
    "model.add(Dropout(0.25))\n",
    "\n",
    "model.add(Flatten())\n",
    "model.add(Dense(512))\n",
    "model.add(Activation('relu'))\n",
    "model.add(Dropout(0.5))\n",
    "model.add(Dense(num_classes))\n",
    "model.add(Activation('softmax'))"
   ]
  },
  {
   "cell_type": "code",
   "execution_count": 94,
   "metadata": {},
   "outputs": [
    {
     "name": "stdout",
     "output_type": "stream",
     "text": [
      "_________________________________________________________________\n",
      "Layer (type)                 Output Shape              Param #   \n",
      "=================================================================\n",
      "conv2d_7 (Conv2D)            (None, 100, 87, 32)       320       \n",
      "_________________________________________________________________\n",
      "activation_9 (Activation)    (None, 100, 87, 32)       0         \n",
      "_________________________________________________________________\n",
      "conv2d_8 (Conv2D)            (None, 98, 85, 32)        9248      \n",
      "_________________________________________________________________\n",
      "activation_10 (Activation)   (None, 98, 85, 32)        0         \n",
      "_________________________________________________________________\n",
      "max_pooling2d_4 (MaxPooling2 (None, 49, 42, 32)        0         \n",
      "_________________________________________________________________\n",
      "dropout_5 (Dropout)          (None, 49, 42, 32)        0         \n",
      "_________________________________________________________________\n",
      "conv2d_9 (Conv2D)            (None, 49, 42, 64)        18496     \n",
      "_________________________________________________________________\n",
      "activation_11 (Activation)   (None, 49, 42, 64)        0         \n",
      "_________________________________________________________________\n",
      "conv2d_10 (Conv2D)           (None, 47, 40, 64)        36928     \n",
      "_________________________________________________________________\n",
      "activation_12 (Activation)   (None, 47, 40, 64)        0         \n",
      "_________________________________________________________________\n",
      "max_pooling2d_5 (MaxPooling2 (None, 23, 20, 64)        0         \n",
      "_________________________________________________________________\n",
      "dropout_6 (Dropout)          (None, 23, 20, 64)        0         \n",
      "_________________________________________________________________\n",
      "conv2d_11 (Conv2D)           (None, 23, 20, 128)       73856     \n",
      "_________________________________________________________________\n",
      "activation_13 (Activation)   (None, 23, 20, 128)       0         \n",
      "_________________________________________________________________\n",
      "conv2d_12 (Conv2D)           (None, 21, 18, 128)       147584    \n",
      "_________________________________________________________________\n",
      "activation_14 (Activation)   (None, 21, 18, 128)       0         \n",
      "_________________________________________________________________\n",
      "max_pooling2d_6 (MaxPooling2 (None, 10, 9, 128)        0         \n",
      "_________________________________________________________________\n",
      "dropout_7 (Dropout)          (None, 10, 9, 128)        0         \n",
      "_________________________________________________________________\n",
      "flatten_2 (Flatten)          (None, 11520)             0         \n",
      "_________________________________________________________________\n",
      "dense_3 (Dense)              (None, 512)               5898752   \n",
      "_________________________________________________________________\n",
      "activation_15 (Activation)   (None, 512)               0         \n",
      "_________________________________________________________________\n",
      "dropout_8 (Dropout)          (None, 512)               0         \n",
      "_________________________________________________________________\n",
      "dense_4 (Dense)              (None, 11)                5643      \n",
      "_________________________________________________________________\n",
      "activation_16 (Activation)   (None, 11)                0         \n",
      "=================================================================\n",
      "Total params: 6,190,827\n",
      "Trainable params: 6,190,827\n",
      "Non-trainable params: 0\n",
      "_________________________________________________________________\n"
     ]
    }
   ],
   "source": [
    "model.summary()"
   ]
  },
  {
   "cell_type": "code",
   "execution_count": 95,
   "metadata": {},
   "outputs": [],
   "source": [
    "# initiate ADAM optimizer\n",
    "opt = keras.optimizers.Adam(lr=0.0001, beta_1=0.9, beta_2=0.999, epsilon=None, decay=0.0, amsgrad=False)\n",
    "\n",
    "\n",
    "# Let's train the model\n",
    "model.compile(loss='categorical_crossentropy',\n",
    "              optimizer=opt,\n",
    "              metrics=['accuracy'])"
   ]
  },
  {
   "cell_type": "code",
   "execution_count": 97,
   "metadata": {},
   "outputs": [
    {
     "name": "stdout",
     "output_type": "stream",
     "text": [
      "WARNING:tensorflow:From C:\\Users\\gpa4767\\AppData\\Local\\Continuum\\anaconda3\\lib\\site-packages\\tensorflow\\python\\ops\\math_ops.py:3066: to_int32 (from tensorflow.python.ops.math_ops) is deprecated and will be removed in a future version.\n",
      "Instructions for updating:\n",
      "Use tf.cast instead.\n",
      "Train on 20000 samples, validate on 12678 samples\n",
      "Epoch 1/30\n",
      "20000/20000 [==============================] - 1356s 68ms/step - loss: 3.0490 - acc: 0.2089 - val_loss: 2.0622 - val_acc: 0.2553\n",
      "Epoch 2/30\n",
      "20000/20000 [==============================] - 1092s 55ms/step - loss: 2.0091 - acc: 0.2777 - val_loss: 1.9074 - val_acc: 0.2823\n",
      "Epoch 3/30\n",
      "20000/20000 [==============================] - 1083s 54ms/step - loss: 1.8549 - acc: 0.3396 - val_loss: 1.7443 - val_acc: 0.3259\n",
      "Epoch 4/30\n",
      "20000/20000 [==============================] - 1085s 54ms/step - loss: 1.7041 - acc: 0.3966 - val_loss: 1.6968 - val_acc: 0.3356\n",
      "Epoch 5/30\n",
      "20000/20000 [==============================] - 1084s 54ms/step - loss: 1.5819 - acc: 0.4415 - val_loss: 1.6479 - val_acc: 0.3593\n",
      "Epoch 6/30\n",
      "20000/20000 [==============================] - 1083s 54ms/step - loss: 1.4888 - acc: 0.4735 - val_loss: 1.5837 - val_acc: 0.3960\n",
      "Epoch 7/30\n",
      "20000/20000 [==============================] - 1103s 55ms/step - loss: 1.4080 - acc: 0.4990 - val_loss: 1.6079 - val_acc: 0.3660\n",
      "Epoch 8/30\n",
      "20000/20000 [==============================] - 1125s 56ms/step - loss: 1.3303 - acc: 0.5320 - val_loss: 1.5646 - val_acc: 0.4076\n",
      "Epoch 9/30\n",
      "20000/20000 [==============================] - 1114s 56ms/step - loss: 1.2557 - acc: 0.5552 - val_loss: 1.5070 - val_acc: 0.4406\n",
      "Epoch 10/30\n",
      "20000/20000 [==============================] - 1083s 54ms/step - loss: 1.1826 - acc: 0.5776 - val_loss: 1.5111 - val_acc: 0.4898\n",
      "Epoch 11/30\n",
      "20000/20000 [==============================] - 1076s 54ms/step - loss: 1.1188 - acc: 0.6010 - val_loss: 1.5823 - val_acc: 0.4682\n",
      "Epoch 12/30\n",
      "20000/20000 [==============================] - 1098s 55ms/step - loss: 1.0666 - acc: 0.6164 - val_loss: 1.5515 - val_acc: 0.5161\n",
      "Epoch 13/30\n",
      "20000/20000 [==============================] - 1096s 55ms/step - loss: 1.0006 - acc: 0.6395 - val_loss: 1.5080 - val_acc: 0.5357\n",
      "Epoch 14/30\n",
      "20000/20000 [==============================] - 1093s 55ms/step - loss: 0.9526 - acc: 0.6535 - val_loss: 1.5918 - val_acc: 0.5342\n",
      "Epoch 15/30\n",
      "20000/20000 [==============================] - 1084s 54ms/step - loss: 0.9021 - acc: 0.6754 - val_loss: 1.6308 - val_acc: 0.5490\n",
      "Epoch 16/30\n",
      "20000/20000 [==============================] - 1082s 54ms/step - loss: 0.8651 - acc: 0.6895 - val_loss: 1.6787 - val_acc: 0.5554\n",
      "Epoch 17/30\n",
      "20000/20000 [==============================] - 1095s 55ms/step - loss: 0.8321 - acc: 0.7002 - val_loss: 1.6363 - val_acc: 0.5500\n",
      "Epoch 18/30\n",
      "20000/20000 [==============================] - 1142s 57ms/step - loss: 0.7885 - acc: 0.7181 - val_loss: 1.6357 - val_acc: 0.5737\n",
      "Epoch 19/30\n",
      "20000/20000 [==============================] - 1103s 55ms/step - loss: 0.7591 - acc: 0.7276 - val_loss: 1.7088 - val_acc: 0.5633\n",
      "Epoch 20/30\n",
      "20000/20000 [==============================] - 1111s 56ms/step - loss: 0.7224 - acc: 0.7396 - val_loss: 1.6788 - val_acc: 0.5824\n",
      "Epoch 21/30\n",
      "20000/20000 [==============================] - 1112s 56ms/step - loss: 0.6990 - acc: 0.7468 - val_loss: 1.6528 - val_acc: 0.5944\n",
      "Epoch 22/30\n",
      "20000/20000 [==============================] - 1112s 56ms/step - loss: 0.6548 - acc: 0.7641 - val_loss: 1.6989 - val_acc: 0.5930\n",
      "Epoch 23/30\n",
      "20000/20000 [==============================] - 1109s 55ms/step - loss: 0.6348 - acc: 0.7710 - val_loss: 1.7907 - val_acc: 0.5936\n",
      "Epoch 24/30\n",
      "20000/20000 [==============================] - 1108s 55ms/step - loss: 0.6074 - acc: 0.7822 - val_loss: 1.6667 - val_acc: 0.6037\n",
      "Epoch 25/30\n",
      "20000/20000 [==============================] - 1107s 55ms/step - loss: 0.5836 - acc: 0.7898 - val_loss: 1.7383 - val_acc: 0.6073\n",
      "Epoch 26/30\n",
      "20000/20000 [==============================] - 1105s 55ms/step - loss: 0.5571 - acc: 0.7971 - val_loss: 1.8252 - val_acc: 0.6121\n",
      "Epoch 27/30\n",
      "20000/20000 [==============================] - 1107s 55ms/step - loss: 0.5314 - acc: 0.8060 - val_loss: 1.8153 - val_acc: 0.6158\n",
      "Epoch 28/30\n",
      "20000/20000 [==============================] - 1103s 55ms/step - loss: 0.5207 - acc: 0.8119 - val_loss: 1.7964 - val_acc: 0.6270\n",
      "Epoch 29/30\n",
      "20000/20000 [==============================] - 1091s 55ms/step - loss: 0.4916 - acc: 0.8223 - val_loss: 1.8009 - val_acc: 0.6141\n",
      "Epoch 30/30\n",
      "20000/20000 [==============================] - 1093s 55ms/step - loss: 0.4885 - acc: 0.8243 - val_loss: 1.9365 - val_acc: 0.6256\n"
     ]
    }
   ],
   "source": [
    "NSynth_train = model.fit(train_X, train_Y,\n",
    "          batch_size=batch_size,\n",
    "          epochs=epochs,\n",
    "          validation_data=(valid_X, valid_Y),\n",
    "          shuffle=True)"
   ]
  },
  {
   "cell_type": "code",
   "execution_count": 101,
   "metadata": {},
   "outputs": [],
   "source": [
    "model.save(model_name)"
   ]
  },
  {
   "cell_type": "markdown",
   "metadata": {},
   "source": [
    "## Score Model"
   ]
  },
  {
   "cell_type": "code",
   "execution_count": 109,
   "metadata": {},
   "outputs": [
    {
     "name": "stdout",
     "output_type": "stream",
     "text": [
      "4096/4096 [==============================] - 42s 10ms/step\n",
      "Test loss: 1.9310905542224646\n",
      "Test accuracy: 0.62548828125\n"
     ]
    }
   ],
   "source": [
    "# Score trained model\n",
    "scores = model.evaluate(test_X, test_Y, verbose=1)\n",
    "print('Test loss:', scores[0])\n",
    "print('Test accuracy:', scores[1])"
   ]
  },
  {
   "cell_type": "code",
   "execution_count": 112,
   "metadata": {},
   "outputs": [],
   "source": [
    "# predict response variable from test_X\n",
    "pred_Y = model.predict(test_X)"
   ]
  },
  {
   "cell_type": "code",
   "execution_count": 128,
   "metadata": {},
   "outputs": [
    {
     "name": "stdout",
     "output_type": "stream",
     "text": [
      "4096 4096\n"
     ]
    }
   ],
   "source": [
    "# Reverse one hot encoding for response variable to be used for confusion matrix\n",
    "\n",
    "pred_Y_flat = []\n",
    "for i in range(0, len(pred_Y)):\n",
    "    row_max = pred_Y[i].max()\n",
    "    for j in range(0, len(pred_Y[0])):\n",
    "        if pred_Y[i,j] == row_max:\n",
    "            pred_Y_flat.append(j)\n",
    "            \n",
    "test_Y_flat = []\n",
    "for i in range(0, len(test_Y)):\n",
    "    for j in range(0, len(test_Y[0])):\n",
    "        if test_Y[i,j] == 1:\n",
    "            test_Y_flat.append(j)\n",
    "\n",
    "print(len(pred_Y_flat), len(test_Y_flat))"
   ]
  },
  {
   "cell_type": "code",
   "execution_count": 139,
   "metadata": {},
   "outputs": [
    {
     "name": "stdout",
     "output_type": "stream",
     "text": [
      "4096 4096\n"
     ]
    }
   ],
   "source": [
    "# convert numerical class names to string class names\n",
    "class_names = ['bass', 'brass', 'flute', 'guitar', \n",
    "             'keyboard', 'mallet', 'organ', 'reed', \n",
    "             'string', 'synth_lead', 'vocal']\n",
    "pred_Y_class = []\n",
    "test_Y_class = []\n",
    "for i in range(0, len(pred_Y_flat)):\n",
    "    pred_Y_class.append(class_names[pred_Y_flat[i]])\n",
    "    test_Y_class.append(class_names[test_Y_flat[i]])\n",
    "    \n",
    "print(len(pred_Y_class), len(test_Y_class))"
   ]
  },
  {
   "cell_type": "code",
   "execution_count": 158,
   "metadata": {},
   "outputs": [
    {
     "name": "stderr",
     "output_type": "stream",
     "text": [
      "C:\\Users\\gpa4767\\AppData\\Local\\Continuum\\anaconda3\\lib\\site-packages\\ipykernel_launcher.py:4: RuntimeWarning: invalid value encountered in true_divide\n",
      "  after removing the cwd from sys.path.\n"
     ]
    },
    {
     "data": {
      "text/plain": [
       "Text(0.5, 0, 'Predicted label')"
      ]
     },
     "execution_count": 158,
     "metadata": {},
     "output_type": "execute_result"
    },
    {
     "data": {
      "image/png": "[encoded data removed]",
      "text/plain": [
       "<Figure size 432x288 with 2 Axes>"
      ]
     },
     "metadata": {
      "needs_background": "light"
     },
     "output_type": "display_data"
    }
   ],
   "source": [
    "# Plot confusion matrix on predictions made on test set\n",
    "\n",
    "cm = confusion_matrix(test_Y_class, pred_Y_class, labels=['bass', 'brass', 'flute', 'guitar', \n",
    "             'keyboard', 'mallet', 'organ', 'reed', \n",
    "             'string', 'synth_lead', 'vocal'])\n",
    "cm = cm.astype('float') / cm.sum(axis=1)[:, np.newaxis]\n",
    "plt.imshow(cm, interpolation='nearest', cmap=plt.cm.Blues)\n",
    "plt.title(\"Confusion Matrix on Predictions made by CNN on NSynth Test Set\")\n",
    "plt.colorbar()\n",
    "tick_marks = np.arange(len(class_names))\n",
    "plt.xticks(tick_marks, class_names, rotation=45)\n",
    "plt.yticks(tick_marks, class_names)\n",
    "\n",
    "thresh = cm.max() / 2.\n",
    "fmt = '.1f'\n",
    "for i, j in itertools.product(range(cm.shape[0]), range(cm.shape[1])):\n",
    "    plt.text(j, i, format(cm[i, j], fmt), horizontalalignment=\"center\", color=\"white\" if cm[i, j] > thresh else \"black\")\n",
    "\n",
    "plt.ylabel('True label')\n",
    "plt.xlabel('Predicted label')"
   ]
  },
  {
   "cell_type": "markdown",
   "metadata": {},
   "source": [
    "References\n",
    "\n",
    "Dataset - NSynth\n",
    "https://magenta.tensorflow.org/datasets/nsynth#description\n",
    "\n",
    "\"Audio Classification Using CNN — An Experiment\"\n",
    "https://medium.com/x8-the-ai-community/audio-classification-using-cnn-coding-example-f9cbd272269e\n",
    "\n",
    "\"Audio Classification : A Convolutional Neural Network Approach\"\n",
    "https://github.com/CVxTz/audio_classification\n",
    "\n",
    "\"Instrument classification on the NSynth dataset using supervised learning and CNNs\"\n",
    "https://github.com/NadimKawwa/NSynth\n",
    "\n",
    "\"The Sequantial Model API\"\n",
    "https://keras.io/models/sequential/\n",
    "\n",
    "LibROSA\n",
    "https://librosa.github.io/librosa/index.html\n",
    "\n"
   ]
  }
 ],
 "metadata": {
  "kernelspec": {
   "display_name": "Python 3",
   "language": "python",
   "name": "python3"
  },
  "language_info": {
   "codemirror_mode": {
    "name": "ipython",
    "version": 3
   },
   "file_extension": ".py",
   "mimetype": "text/x-python",
   "name": "python",
   "nbconvert_exporter": "python",
   "pygments_lexer": "ipython3",
   "version": "3.7.1"
  }
 },
 "nbformat": 4,
 "nbformat_minor": 2
}
